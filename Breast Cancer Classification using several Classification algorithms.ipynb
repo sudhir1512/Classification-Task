{
 "cells": [
  {
   "cell_type": "code",
   "execution_count": null,
   "id": "92a4896c",
   "metadata": {},
   "outputs": [],
   "source": [
    "import numpy as np\n",
    "import pandas as pd\n",
    "import matplotlib\n",
    "##matplotlib.use('TkAgg')\n",
    "import matplotlib.pyplot as plt\n",
    "import seaborn as sns; sns.set()\n",
    "from sklearn.model_selection import train_test_split,cross_val_score\n",
    "from sklearn.metrics import classification_report,confusion_matrix,accuracy_score\n",
    "from sklearn.preprocessing import StandardScaler"
   ]
  },
  {
   "cell_type": "code",
   "execution_count": null,
   "id": "1582df70",
   "metadata": {},
   "outputs": [],
   "source": [
    "data=pd.read_csv(\"C:/Users/sudhi/Desktop/tumor.csv\")\n",
    "## class =2 for benign and class = 4 for maginant\n",
    "data.head(5)"
   ]
  },
  {
   "cell_type": "code",
   "execution_count": null,
   "id": "4ed4cb16",
   "metadata": {},
   "outputs": [],
   "source": [
    "print(data.shape)\n",
    "print(\"\\n\",data.dtypes)\n",
    "print(\"\\n\",data.info())"
   ]
  },
  {
   "cell_type": "code",
   "execution_count": null,
   "id": "2fd149be",
   "metadata": {},
   "outputs": [],
   "source": [
    "data.Class.value_counts(dropna=False)"
   ]
  },
  {
   "cell_type": "markdown",
   "id": "f532f4d4",
   "metadata": {},
   "source": [
    "### benign class 65% and malignant class 35%"
   ]
  },
  {
   "cell_type": "code",
   "execution_count": null,
   "id": "898106fb",
   "metadata": {},
   "outputs": [],
   "source": [
    "data.isnull().sum()"
   ]
  },
  {
   "cell_type": "markdown",
   "id": "20e66c5c",
   "metadata": {},
   "source": [
    "### No Missing Values"
   ]
  },
  {
   "cell_type": "code",
   "execution_count": null,
   "id": "5fa303af",
   "metadata": {},
   "outputs": [],
   "source": [
    "#removing duplicate rows\n",
    "data=data.drop_duplicates()\n",
    "data.shape"
   ]
  },
  {
   "cell_type": "code",
   "execution_count": null,
   "id": "aa8e7b6a",
   "metadata": {},
   "outputs": [],
   "source": [
    "#droping unwanted columns\n",
    "data=data.drop(['Sample code number'],axis=1)\n",
    "data.shape"
   ]
  },
  {
   "cell_type": "code",
   "execution_count": null,
   "id": "d4cae4a2",
   "metadata": {},
   "outputs": [],
   "source": [
    "plt.clf()\n",
    "plt.figure(figsize=(10,5))\n",
    "sns.countplot(x='Class',data=data,palette='rainbow')\n",
    "plt.title('Count of Class')\n",
    "plt.show()"
   ]
  },
  {
   "cell_type": "code",
   "execution_count": null,
   "id": "ee7aa9f3",
   "metadata": {},
   "outputs": [],
   "source": [
    "plt.clf()\n",
    "plt.figure(figsize=(12,8))\n",
    "sns.stripplot(x='Uniformity of Cell Size',y='Uniformity of Cell Shape',data=data, \n",
    "              jitter=True, hue='Class', dodge=True, palette='CMRmap')"
   ]
  },
  {
   "cell_type": "code",
   "execution_count": null,
   "id": "decc21ad",
   "metadata": {},
   "outputs": [],
   "source": [
    "# Separating the features and target variable\n",
    "X = data.iloc[:, :-1].values\n",
    "y = data.iloc[:, -1].values # The last column has the label value"
   ]
  },
  {
   "cell_type": "code",
   "execution_count": null,
   "id": "a7794b08",
   "metadata": {},
   "outputs": [],
   "source": [
    "#splitting the data into train and test\n",
    "X_train, X_test, y_train, y_test = train_test_split(X, y, test_size = 0.2, random_state = 0)\n",
    "\n",
    "#Scaling the dependent features\n",
    "feature_scaling = StandardScaler()\n",
    "X_train_t = feature_scaling.fit_transform(X_train)\n",
    "X_test_t = feature_scaling.transform(X_test)"
   ]
  },
  {
   "cell_type": "markdown",
   "id": "cea318cc",
   "metadata": {},
   "source": [
    "### Decision tree"
   ]
  },
  {
   "cell_type": "code",
   "execution_count": null,
   "id": "e2ecb54e",
   "metadata": {},
   "outputs": [],
   "source": [
    "from sklearn.tree import DecisionTreeClassifier\n",
    "np.random.seed(40)\n",
    "model=DecisionTreeClassifier(criterion='entropy')\n",
    "print(cross_val_score(model,X, y,cv=5,scoring='accuracy').mean())\n",
    "\n"
   ]
  },
  {
   "cell_type": "code",
   "execution_count": null,
   "id": "085b8ef3",
   "metadata": {},
   "outputs": [],
   "source": [
    "model.fit(X_train_t,y_train)\n",
    "y_pred=model.predict(X_test_t)"
   ]
  },
  {
   "cell_type": "code",
   "execution_count": null,
   "id": "4d3e0753",
   "metadata": {},
   "outputs": [],
   "source": [
    "cm = confusion_matrix(y_test, y_pred)\n",
    "print(cm)\n",
    "print(classification_report(y_test, y_pred))\n",
    "print(\"accuracy :\",accuracy_score(y_test,y_pred)*100)"
   ]
  },
  {
   "cell_type": "code",
   "execution_count": null,
   "id": "3eab46a8",
   "metadata": {},
   "outputs": [],
   "source": [
    "output = pd.DataFrame({'Real_class': y_test, 'Predicted_class': y_pred})\n",
    "output.head(10)"
   ]
  },
  {
   "cell_type": "markdown",
   "id": "a7bf490c",
   "metadata": {},
   "source": [
    "### random forest classifier"
   ]
  },
  {
   "cell_type": "code",
   "execution_count": null,
   "id": "739a84bc",
   "metadata": {},
   "outputs": [],
   "source": [
    "from sklearn.ensemble import RandomForestClassifier\n",
    "# random forest model creation\n",
    "np.random.seed(40)\n",
    "rfc = RandomForestClassifier(n_estimators=50,criterion='entropy')\n",
    "print(cross_val_score(rfc,X, y,cv=5,scoring='accuracy').mean())\n"
   ]
  },
  {
   "cell_type": "code",
   "execution_count": null,
   "id": "5613ecf0",
   "metadata": {},
   "outputs": [],
   "source": [
    "rfc.fit(X_train_t,y_train)\n",
    "y_pred=rfc.predict(X_test_t)"
   ]
  },
  {
   "cell_type": "code",
   "execution_count": null,
   "id": "52632346",
   "metadata": {},
   "outputs": [],
   "source": [
    "cm = confusion_matrix(y_test, y_pred)\n",
    "print(cm)\n",
    "print(classification_report(y_test, y_pred))\n",
    "print(\"accuracy :\",accuracy_score(y_test,y_pred)*100)"
   ]
  },
  {
   "cell_type": "code",
   "execution_count": null,
   "id": "de843120",
   "metadata": {},
   "outputs": [],
   "source": [
    "output = pd.DataFrame({'Real_class': y_test, 'Predicted_class': y_pred})\n",
    "output.head()"
   ]
  },
  {
   "cell_type": "markdown",
   "id": "adffe1e1",
   "metadata": {},
   "source": [
    "### Naive Bayes"
   ]
  },
  {
   "cell_type": "code",
   "execution_count": null,
   "id": "5cedb392",
   "metadata": {},
   "outputs": [],
   "source": [
    "from sklearn.naive_bayes import GaussianNB\n",
    "gnb = GaussianNB()\n",
    "print(cross_val_score(gnb,X, y,cv=5,scoring='accuracy').mean())\n"
   ]
  },
  {
   "cell_type": "code",
   "execution_count": null,
   "id": "99038122",
   "metadata": {},
   "outputs": [],
   "source": [
    "gnb.fit(X_train_t,y_train)\n",
    "y_pred=gnb.predict(X_test_t)"
   ]
  },
  {
   "cell_type": "code",
   "execution_count": null,
   "id": "26f69cc5",
   "metadata": {},
   "outputs": [],
   "source": [
    "cm = confusion_matrix(y_test, y_pred)\n",
    "print(cm)\n",
    "print(classification_report(y_test, y_pred))\n",
    "print(\"accuracy :\",accuracy_score(y_test,y_pred)*100)"
   ]
  },
  {
   "cell_type": "code",
   "execution_count": null,
   "id": "01ac9738",
   "metadata": {},
   "outputs": [],
   "source": [
    "output = pd.DataFrame({'Real_class': y_test, 'Predicted_class': y_pred})\n",
    "output.head()"
   ]
  },
  {
   "cell_type": "markdown",
   "id": "33a61a7e",
   "metadata": {},
   "source": [
    "### K Nearest Neighbour"
   ]
  },
  {
   "cell_type": "code",
   "execution_count": null,
   "id": "92e72eaf",
   "metadata": {},
   "outputs": [],
   "source": [
    "from sklearn.neighbors import KNeighborsClassifier\n",
    "knn = KNeighborsClassifier(n_neighbors=10)\n",
    "print(cross_val_score(knn,X, y,cv=5,scoring='accuracy').mean())\n"
   ]
  },
  {
   "cell_type": "code",
   "execution_count": null,
   "id": "50cc94a1",
   "metadata": {},
   "outputs": [],
   "source": [
    "knn.fit(X_train_t,y_train)\n",
    "y_pred=knn.predict(X_test_t)"
   ]
  },
  {
   "cell_type": "code",
   "execution_count": null,
   "id": "41849f73",
   "metadata": {},
   "outputs": [],
   "source": [
    "cm = confusion_matrix(y_test, y_pred)\n",
    "print(cm)\n",
    "print(classification_report(y_test, y_pred))\n",
    "print(\"accuracy :\",accuracy_score(y_test,y_pred)*100)"
   ]
  },
  {
   "cell_type": "code",
   "execution_count": null,
   "id": "327e7e12",
   "metadata": {},
   "outputs": [],
   "source": [
    "output = pd.DataFrame({'Real_class': y_test, 'Predicted_class': y_pred})\n",
    "output.head()"
   ]
  },
  {
   "cell_type": "code",
   "execution_count": null,
   "id": "fc12d5e5",
   "metadata": {},
   "outputs": [],
   "source": []
  }
 ],
 "metadata": {
  "kernelspec": {
   "display_name": "Python 3",
   "language": "python",
   "name": "python3"
  },
  "language_info": {
   "codemirror_mode": {
    "name": "ipython",
    "version": 3
   },
   "file_extension": ".py",
   "mimetype": "text/x-python",
   "name": "python",
   "nbconvert_exporter": "python",
   "pygments_lexer": "ipython3",
   "version": "3.8.8"
  }
 },
 "nbformat": 4,
 "nbformat_minor": 5
}
